{
 "cells": [
  {
   "cell_type": "markdown",
   "metadata": {},
   "source": [
    "MNIST for Tensorflow-lite (Jetson-nano)\n",
    "----\n",
    "\n",
    "This notebook is part of this [post](https://www.stupid-projects.com/machine-learning-on-embedded-part-5) which is part a series of post about using ML and NN in embedded MCUs. The first post of the series is [here](https://www.stupid-projects.com/machine-learning-on-embedded-part-1)\n",
    "\n",
    "This notebook is just a port of [this](https://github.com/fchollet/deep-learning-with-python-notebooks/blob/master/5.1-introduction-to-convnets.ipynb) notebook from Keras to TF.\n",
    "\n",
    "This notebook is meant to be used to test/verify a pre-trained tflite model. The model training was part of these two posts [here](https://www.stupid-projects.com/machine-learning-on-embedded-part-3) and [here](https://www.stupid-projects.com/machine-learning-on-embedded-part-4). In those two post the same model was trained and then the model was exported as a tflite flattened model (`mnist.tflite`).\n",
    "\n",
    "This notebook is meant to be run on the jetson nano. To use tensorflow on Jetson-nano there are some steps you need to do first and install some dependencies. For this notebook I assume you're using the Jetson-nano default ubuntu installation. To flash the image you can follow this guide [here](https://developer.nvidia.com/embedded/learn/get-started-jetson-nano-devkit) or you can follow these steps for Ubuntu (I'm using 18.04).\n",
    "\n",
    "#### Prepare SD card\n",
    "\n",
    "1. Download the latest pre-build SD image from [here](https://developer.nvidia.com/jetson-nano-sd-card-image-r322). In my case that's `jetson-nano-sd-r32.2-2019-07-16.zip`.\n",
    "2. Insert your SD card in your workstation and get the SD card dev path\n",
    "3. Flash the image to the SD card (instead of sdX use your device):\n",
    "```sh\n",
    "cd ~/Downloads\n",
    "wget https://developer.nvidia.com/jetson-nano-sd-card-image-r322\n",
    "/usr/bin/unzip -p ~/Downloads/jetson_nano_devkit_sd_card.zip | sudo /bin/dd of=/dev/sdX bs=1M status=progress\n",
    "sudo eject /dev/sdX\n",
    "```\n",
    "4. Eject the card:\n",
    "```sh\n",
    "sudo eject /dev/sdX\n",
    "```\n",
    "\n",
    "#### Pre-cautions\n",
    "If you power nano from the USB cable then it automatically gets into the 5W mode, which is the low power mode, which means less performance. In order to run nano to performance mode, then power it up from the DC barrel jack and **use active cooling**!!! That means use a fan to blow on the heatsink.\n",
    "\n",
    "#### Install prerequisites\n",
    "Tensorflow is not installed by default in the image, so you need to install it your self. There is a guide [here](https://docs.nvidia.com/deeplearning/frameworks/install-tf-jetson-platform/index.html), but for me the next commands did the trick.\n",
    "\n",
    "```sh\n",
    "python3 -m venv nn-env\n",
    "source /home/$USER/nn-env/bin/activate\n",
    "sudo pip3 install -U numpy grpcio absl-py py-cpuinfo psutil portpicker six mock requests gast h5py astor termcolor protobuf keras-applications keras-preprocessing wrapt google-pasta jupyter\n",
    "sudo ln -s /usr/include/freetype2/ft2build.h /usr/include/\n",
    "sudo pip3 install -U matplotlib\n",
    "```\n",
    "\n",
    "Normally, you shouldn't use `sudo`, but without it things are failing.\n",
    "\n",
    "> Note: The tensorflow version is `1.13.1`, but on the other articles it was `1.14.0`. I don't know how this version difference affects the performance, but I wasn't able to find a way to install the latest version on nano.\n",
    "\n",
    "#### Launch this notepad\n",
    "To launch this notepad and connect from a remote host then:\n",
    "\n",
    "1. Find your nano IP using ifconfig. On nano run:\n",
    "```sh\n",
    "ifconfig\n",
    "```\n",
    "3. Assume that `<user>` is your Jetson nano username and `<nano-ip>` is your nano IP address\n",
    "2. Copy your public ssh keys from your workstation to nano. From your workstation run this command:\n",
    "```sh\n",
    "ssh-copy-id <user>@<nano ip>\n",
    "```\n",
    "4. Connect from your workstation to the nano via ssh\n",
    "```sh\n",
    "ssh <user>@<nano-ip>\n",
    "```\n",
    "5. `cd` to the directory where the notepad is and run:\n",
    "```sh\n",
    "sudo jupyter notebook --allow-root --ip <nano-ip> --port 8888\n",
    "```\n",
    "\n",
    "In my case I got this output:\n",
    "```sh\n",
    "    To access the notebook, open this file in a browser:\n",
    "        file:///home/dimtass/.local/share/jupyter/runtime/nbserver-7309-open.html\n",
    "    Or copy and paste one of these URLs:\n",
    "        http://192.168.0.86:8888/?token=2a3804e7958d911bf8a2b7b0e66be55ce07acb4b4132e3c7\n",
    "     or http://127.0.0.1:8888/?token=2a3804e7958d911bf8a2b7b0e66be55ce07acb4b4132e3c7\n",
    "```\n",
    "\n",
    "Then I had to just copy that line and paste it to my workstation's browser.\n",
    "```\n",
    "http://192.168.0.86:8888/?token=2a3804e7958d911bf8a2b7b0e66be55ce07acb4b4132e3c7\n",
    "```\n",
    "\n",
    "\n"
   ]
  },
  {
   "cell_type": "markdown",
   "metadata": {},
   "source": [
    "## 1. Load the pre-trained model\n",
    "\n"
   ]
  },
  {
   "cell_type": "code",
   "execution_count": 2,
   "metadata": {},
   "outputs": [
    {
     "name": "stdout",
     "output_type": "stream",
     "text": [
      "TensorFlow version 1.13.1\n"
     ]
    }
   ],
   "source": [
    "# TensorFlow and tf.keras\n",
    "import tensorflow as tf\n",
    "from tensorflow import keras\n",
    "import time\n",
    "\n",
    "# Helper libraries\n",
    "import numpy as np\n",
    "import matplotlib.pyplot as plt\n",
    "\n",
    "print(\"TensorFlow version {}\".format(tf.__version__))"
   ]
  },
  {
   "cell_type": "code",
   "execution_count": 3,
   "metadata": {},
   "outputs": [],
   "source": [
    "mnist = tf.keras.datasets.mnist\n",
    "(train_images, train_labels),(test_images, test_labels) = mnist.load_data()"
   ]
  },
  {
   "cell_type": "markdown",
   "metadata": {},
   "source": [
    "#### Convert train and test data\n",
    "Normally when the dataset is loaded the shape is (x, 28, 28). For convnets you need to reshape the data to (x, 28, 28, y), where `x` is the number of images per set and `y` in this case is the number of colors. Normally, of RGB it should be 3, but since the images are grayscale then it's 1."
   ]
  },
  {
   "cell_type": "code",
   "execution_count": 4,
   "metadata": {},
   "outputs": [],
   "source": [
    "input_shape = (1, 28, 28, 1)\n",
    "train_images = train_images.reshape((60000, 28, 28, 1))\n",
    "train_images = train_images.astype('float32') / 255\n",
    "\n",
    "test_images = test_images.reshape((10000, 28, 28, 1))\n",
    "test_images = test_images.astype('float32') / 255\n",
    "\n",
    "train_labels = tf.keras.utils.to_categorical(train_labels)\n",
    "test_labels = tf.keras.utils.to_categorical(test_labels)"
   ]
  },
  {
   "cell_type": "code",
   "execution_count": 5,
   "metadata": {},
   "outputs": [
    {
     "name": "stdout",
     "output_type": "stream",
     "text": [
      "Data type: <class 'numpy.ndarray'>\n",
      "Dataset shape: (60000, 28, 28, 1)\n"
     ]
    }
   ],
   "source": [
    "print(\"Data type:\", type(train_images))\n",
    "print(\"Dataset shape:\", (train_images.shape))"
   ]
  },
  {
   "cell_type": "code",
   "execution_count": 6,
   "metadata": {},
   "outputs": [
    {
     "name": "stdout",
     "output_type": "stream",
     "text": [
      "Labels: 60000\n",
      "Possible values: [0. 1.]\n"
     ]
    }
   ],
   "source": [
    "print(\"Labels:\", len(train_labels))\n",
    "print(\"Possible values:\", np.unique(train_labels))"
   ]
  },
  {
   "cell_type": "markdown",
   "metadata": {},
   "source": [
    "#### Print a digit from the dataset\n",
    "Now we just print a digit from the dataset in order to see how it looks like."
   ]
  },
  {
   "cell_type": "code",
   "execution_count": 7,
   "metadata": {},
   "outputs": [],
   "source": [
    "def display_img(img):\n",
    "    img = np.array(img, dtype='float')\n",
    "    pixels = img.reshape((28, 28))\n",
    "    plt.figure()\n",
    "    plt.imshow(pixels, cmap='gray')\n",
    "    plt.colorbar()\n",
    "    plt.grid(False)\n",
    "    plt.xlabel(\"Classification label: {}\".format(train_labels[0]))\n",
    "    plt.show()"
   ]
  },
  {
   "cell_type": "code",
   "execution_count": 8,
   "metadata": {},
   "outputs": [
    {
     "data": {
      "image/png": "[encoded data removed]",
      "text/plain": [
       "<Figure size 432x288 with 2 Axes>"
      ]
     },
     "metadata": {
      "needs_background": "light"
     },
     "output_type": "display_data"
    }
   ],
   "source": [
    "display_img(train_images[0])"
   ]
  },
  {
   "cell_type": "markdown",
   "metadata": {},
   "source": [
    "## 2. Load the model and interpreter"
   ]
  },
  {
   "cell_type": "code",
   "execution_count": 9,
   "metadata": {},
   "outputs": [],
   "source": [
    "tflite_mnist_model = 'mnist.tflite'"
   ]
  },
  {
   "cell_type": "code",
   "execution_count": 10,
   "metadata": {},
   "outputs": [
    {
     "name": "stdout",
     "output_type": "stream",
     "text": [
      "== Input details ==\n",
      "name: conv2d_input\n",
      "shape: [ 1 28 28  1]\n",
      "type: <class 'numpy.float32'>\n",
      "\n",
      "== Output details ==\n",
      "name: dense_1/Softmax\n",
      "shape: [ 1 10]\n",
      "type: <class 'numpy.float32'>\n",
      "\n",
      "DUMP INPUT\n",
      "{'name': 'conv2d_input', 'index': 9, 'shape': array([ 1, 28, 28,  1], dtype=int32), 'dtype': <class 'numpy.float32'>, 'quantization': (0.0, 0)}\n",
      "\n",
      "DUMP OUTPUT\n",
      "{'name': 'dense_1/Softmax', 'index': 15, 'shape': array([ 1, 10], dtype=int32), 'dtype': <class 'numpy.float32'>, 'quantization': (0.0, 0)}\n"
     ]
    }
   ],
   "source": [
    "interpreter = tf.lite.Interpreter(model_path=tflite_mnist_model)\n",
    "interpreter.allocate_tensors()\n",
    "input_details = interpreter.get_input_details()\n",
    "ouput_details = interpreter.get_output_details()\n",
    "\n",
    "print(\"== Input details ==\")\n",
    "print(\"name:\", interpreter.get_input_details()[0]['name'])\n",
    "print(\"shape:\", interpreter.get_input_details()[0]['shape'])\n",
    "print(\"type:\", interpreter.get_input_details()[0]['dtype'])\n",
    "\n",
    "print(\"\\n== Output details ==\")\n",
    "print(\"name:\", interpreter.get_output_details()[0]['name'])\n",
    "print(\"shape:\", interpreter.get_output_details()[0]['shape'])\n",
    "print(\"type:\", interpreter.get_output_details()[0]['dtype'])\n",
    "\n",
    "print(\"\\nDUMP INPUT\")\n",
    "print(interpreter.get_input_details()[0])\n",
    "print(\"\\nDUMP OUTPUT\")\n",
    "print(interpreter.get_output_details()[0])"
   ]
  },
  {
   "cell_type": "markdown",
   "metadata": {},
   "source": [
    "## 3. Benchmark the inference on the Jetson-nano\n",
    "\n",
    "This script runs a benchmark and prints the average time that the inference needs to run `n` times. You can change `n` to whatever number you like"
   ]
  },
  {
   "cell_type": "code",
   "execution_count": 11,
   "metadata": {},
   "outputs": [
    {
     "name": "stdout",
     "output_type": "stream",
     "text": [
      "Average time in msec: 1.138105\n"
     ]
    }
   ],
   "source": [
    "import time\n",
    "\n",
    "# Number of runs\n",
    "n = 100\n",
    "\n",
    "# Load some random data\n",
    "input_data = np.array(np.random.random_sample(input_shape), dtype=np.float32)\n",
    "interpreter.set_tensor(input_details[0]['index'], input_data)\n",
    "\n",
    "# Run the inference\n",
    "avg_time = 0.0\n",
    "for i in range(0, n):\n",
    "    start_time = time.time()\n",
    "    interpreter.invoke()\n",
    "    end_time = time.time()\n",
    "    avg_time = avg_time + (end_time - start_time)\n",
    "print('Average time in msec: %f' % ((avg_time/n)*1000.0))"
   ]
  },
  {
   "cell_type": "markdown",
   "metadata": {},
   "source": [
    "## 4. Run the TCP server\n"
   ]
  },
  {
   "cell_type": "code",
   "execution_count": null,
   "metadata": {},
   "outputs": [
    {
     "name": "stdout",
     "output_type": "stream",
     "text": [
      "TfliteServer initialized\n",
      "TCP server started at port: 32001\n",
      "==== Results ====\n",
      "Hander time in msec: 20.242691\n",
      "Prediction results: [0.08089687 0.12889975 0.11208985 0.12927799 0.07988966 0.10695633\n",
      " 0.07444601 0.10673008 0.10311186 0.07770159]\n",
      "Predicted value: 3\n",
      "\n",
      "\n"
     ]
    }
   ],
   "source": [
    "from TfliteServer.TfliteServer import TfliteServer\n",
    "\n",
    "srv = TfliteServer(tflite_mnist_model)\n",
    "srv.listen('192.168.0.86', 32001)"
   ]
  },
  {
   "cell_type": "code",
   "execution_count": null,
   "metadata": {},
   "outputs": [],
   "source": []
  }
 ],
 "metadata": {
  "kernelspec": {
   "display_name": "Python 3",
   "language": "python",
   "name": "python3"
  },
  "language_info": {
   "codemirror_mode": {
    "name": "ipython",
    "version": 3
   },
   "file_extension": ".py",
   "mimetype": "text/x-python",
   "name": "python",
   "nbconvert_exporter": "python",
   "pygments_lexer": "ipython3",
   "version": "3.7.3"
  }
 },
 "nbformat": 4,
 "nbformat_minor": 2
}
